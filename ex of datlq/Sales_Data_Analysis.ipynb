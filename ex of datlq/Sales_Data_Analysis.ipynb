{
  "nbformat": 4,
  "nbformat_minor": 0,
  "metadata": {
    "colab": {
      "name": "Sales Data Analysis ",
      "provenance": [],
      "collapsed_sections": []
    },
    "kernelspec": {
      "display_name": "Python 3",
      "name": "python3"
    },
    "language_info": {
      "name": "python"
    }
  },
  "cells": [
    {
      "cell_type": "code",
      "metadata": {
        "id": "SDiEfxUYd2nz"
      },
      "source": [
        "import os, math, subprocess\n",
        "import pandas as pd\n",
        "import numpy as np\n",
        "import matplotlib.pyplot as plt"
      ],
      "execution_count": 9,
      "outputs": []
    },
    {
      "cell_type": "markdown",
      "metadata": {
        "id": "kj31mTN_fPlI"
      },
      "source": [
        "**Load data and exploring statistics**"
      ]
    },
    {
      "cell_type": "code",
      "metadata": {
        "id": "k0kUEL4agFnK"
      },
      "source": [
        "# data_path = os.path.join(\"./sample_data/Sample - Superstore.xls\")\n",
        "pdf_input = pd.read_excel(\"./sample_data/Sample - Superstore.xls\")\n",
        "pdf_input.info\n",
        "# check rows, columns\n",
        "total_records = pdf_input.shape[0]\n",
        "total_cols = pdf_input.shape[1]"
      ],
      "execution_count": 10,
      "outputs": []
    },
    {
      "cell_type": "code",
      "metadata": {
        "id": "Lz9smJPdb-Ob"
      },
      "source": [
        "def create_sub_df(df_input):\n",
        "  \"\"\"\n",
        "    create sub dataframe containe the fields which you need\n",
        "  \"\"\"\n",
        "  years = []\n",
        "  # months = [1, 2, 3, 4, 5, 6, 7, 8, 9, 10, 11, 12]\n",
        "  months = []\n",
        "  profit_rate = []\n",
        "\n",
        "  for row in range(total_records):\n",
        "    year = pdf_input['Order Date'][row].year\n",
        "    month = pdf_input['Order Date'][row].month\n",
        "    years.append(year)\n",
        "    months.append(month)\n",
        "    profit_rate.append(pdf_input['Profit'][row] / pdf_input['Sales'][row])\n",
        " \n",
        "  # create a table containe the fields which you need\n",
        "  my_data = {\n",
        "      'Month':months,\n",
        "      'Year':years,\n",
        "      'State':pdf_input['State'],\n",
        "      'Category':pdf_input['Category'],\n",
        "      'Sub-Category':pdf_input['Sub-Category'],\n",
        "      'Product':pdf_input['Product Name'],\n",
        "      'Sales':pdf_input['Sales'],\n",
        "      'Profit':pdf_input['Profit'], \n",
        "      'Profit Rate': profit_rate\n",
        "      }\n",
        "  df = pd.DataFrame(my_data)\n",
        "  return df\n",
        "\n",
        "def group_and_mean(df_input, field: str):\n",
        "  data = {\n",
        "      field: df_input[field],\n",
        "      'Sales': df_input['Sales'],\n",
        "      'Profit': df_input['Profit'],\n",
        "      'Profit Rate': df_input['Profit Rate']\n",
        "  }\n",
        "  sub_df = pd.DataFrame(data)\n",
        "  group_df = sub_df.groupby(field).mean().round(4)\n",
        "  return group_df\n",
        "\n",
        "df = create_sub_df(pdf_input)"
      ],
      "execution_count": 11,
      "outputs": []
    },
    {
      "cell_type": "code",
      "metadata": {
        "colab": {
          "base_uri": "https://localhost:8080/",
          "height": 685
        },
        "id": "waxpAkmYkBfs",
        "outputId": "a76d7034-dbea-42da-aa6a-381392ee9e6d"
      },
      "source": [
        "group_df_year = group_and_mean(df, 'Year')\n",
        "print(group_df_year)\n",
        "\n",
        "profit = list(group_df_year['Profit'])\n",
        "sale = list(group_df_year['Sales'])\n",
        "profit_rate = list(group_df_year['Profit Rate'])\n",
        "labels_1 = group_df_year.index\n",
        "\n",
        "# Plot line chart visualize Profit And Sales Over Years\n",
        "plt.plot(labels_1, profit, color='red', marker='o', label='Profit')\n",
        "plt.plot(labels_1, sale, color='blue', marker='o', label='Sale')\n",
        "plt.title('Profit And Sales Vs Year', fontsize=14)\n",
        "plt.xlabel('Year', fontsize=14)\n",
        "plt.grid(True)\n",
        "plt.xticks(labels_1)\n",
        "plt.legend()\n",
        "plt.show()\n",
        "\n",
        "# Plot line chart visualize Profit Rate Over Years\n",
        "plt.plot(labels_1, profit_rate, color='red', marker='o')\n",
        "plt.title('Profit Rate Vs Year', fontsize=14)\n",
        "plt.xlabel('Year', fontsize=14)\n",
        "plt.ylabel('Profit Rate', fontsize=14)\n",
        "plt.grid(True)\n",
        "plt.xticks(labels_1)\n",
        "plt.show()"
      ],
      "execution_count": 12,
      "outputs": [
        {
          "output_type": "stream",
          "text": [
            "         Sales   Profit  Profit Rate\n",
            "Year                                \n",
            "2014  242.9742  24.8590       0.1181\n",
            "2015  223.8499  29.3143       0.1176\n",
            "2016  235.4873  31.6178       0.1298\n",
            "2017  221.3814  28.2123       0.1160\n"
          ],
          "name": "stdout"
        },
        {
          "output_type": "display_data",
          "data": {
            "image/png": "[encoded data removed]",
            "text/plain": [
              "<Figure size 432x288 with 1 Axes>"
            ]
          },
          "metadata": {
            "tags": [],
            "needs_background": "light"
          }
        },
        {
          "output_type": "display_data",
          "data": {
            "image/png": "[encoded data removed]",
            "text/plain": [
              "<Figure size 432x288 with 1 Axes>"
            ]
          },
          "metadata": {
            "tags": [],
            "needs_background": "light"
          }
        }
      ]
    },
    {
      "cell_type": "markdown",
      "metadata": {
        "id": "smWgWzPIbIh3"
      },
      "source": [
        "**1. How have profit and sales changed over the years?**\n",
        "- Sale thay đổi không đồng đều theo từng năm: tăng từ giai đoạn 2015-2016 nhưng lại giảm từ 2014-2015 và 2016-2017\n",
        "- Profit tăngg rất chậm từ 2014-2016 và có xu hướng giảm trong giai đoạn 2016-2017\n",
        " "
      ]
    },
    {
      "cell_type": "markdown",
      "metadata": {
        "id": "wyQb7lC7cQT3"
      },
      "source": [
        "**2. How do profit Rate (Profit/Sales) over years?**\n",
        "- Profit rate tăng mạnh từ 2015-2016 nhưng sau đó lại giảm mạnh tù 2016-2017"
      ]
    },
    {
      "cell_type": "code",
      "metadata": {
        "id": "RP04j_DLnqAu"
      },
      "source": [
        "def cluster_month(pdf_input, year):\n",
        "  \"\"\"\n",
        "    cluster the data based on the months in year\n",
        "  \"\"\"\n",
        "  m_sales = []\n",
        "  m_profit = []\n",
        "  m_profit_rate = []\n",
        "  month_year = []\n",
        "\n",
        "  for row in range(total_records):\n",
        "    check_year = pdf_input['Year'][row] == year\n",
        "    if check_year:\n",
        "      month_year.append(pdf_input['Month'][row])\n",
        "      m_sales.append(pdf_input['Sales'][row])\n",
        "      m_profit.append(pdf_input['Profit'][row])\n",
        "      m_profit_rate.append(pdf_input['Profit Rate'][row])\n",
        " \n",
        "  # create a table containe month, sales, profit, profit_rate\n",
        "  my_data = {'Month':month_year, \n",
        "             'Sales':m_sales, \n",
        "             'Profit':m_profit,\n",
        "             'Profit Rate': m_profit_rate\n",
        "             }\n",
        "  df = pd.DataFrame(my_data)\n",
        "  group_df_month = group_and_mean(df, 'Month')\n",
        "  return group_df_month"
      ],
      "execution_count": 13,
      "outputs": []
    },
    {
      "cell_type": "code",
      "metadata": {
        "colab": {
          "base_uri": "https://localhost:8080/",
          "height": 538
        },
        "id": "nqaCR7iknMLM",
        "outputId": "f6307ef0-708d-4cb3-d041-b57289b22c73"
      },
      "source": [
        "df_month = cluster_month(df, 2017)\n",
        "print(df_month)\n",
        "profit_month = list(df_month['Profit'])\n",
        "sale_month = list(df_month['Sales'])\n",
        "labels_2 = df_month.index\n",
        "\n",
        "# Plot line chart visualize Profit And Sales in 2017\n",
        "plt.plot(labels_2, profit_month, color='red', marker='o', label='Profit')\n",
        "plt.plot(labels_2, sale_month, color='blue', marker='o', label='Sale')\n",
        "plt.title('Profit ans Sales in 2017', fontsize=14)\n",
        "plt.xlabel('Month', fontsize=14)\n",
        "plt.grid(True)\n",
        "plt.xticks(labels_2)\n",
        "plt.legend()\n",
        "plt.show()"
      ],
      "execution_count": 14,
      "outputs": [
        {
          "output_type": "stream",
          "text": [
            "          Sales   Profit  Profit Rate\n",
            "Month                                \n",
            "1      283.6863  46.0673       0.0791\n",
            "2      189.7302  15.0829       0.0624\n",
            "3      247.3628  61.9827       0.1516\n",
            "4      179.9090   4.5975       0.0522\n",
            "5      182.8971  26.2090       0.1006\n",
            "6      216.2519  33.5646       0.0703\n",
            "7      200.2850  30.7638       0.1541\n",
            "8      289.5454  41.4723       0.1583\n",
            "9      191.4306  23.9467       0.1489\n",
            "10     260.9964  31.1251       0.0877\n",
            "11     258.0563  21.1113       0.1121\n",
            "12     181.4487  18.3622       0.1334\n"
          ],
          "name": "stdout"
        },
        {
          "output_type": "display_data",
          "data": {
            "image/png": "[encoded data removed]",
            "text/plain": [
              "<Figure size 432x288 with 1 Axes>"
            ]
          },
          "metadata": {
            "tags": [],
            "needs_background": "light"
          }
        }
      ]
    },
    {
      "cell_type": "markdown",
      "metadata": {
        "id": "pbArgregc1Nr"
      },
      "source": [
        "**3. How do profit and sales change over months in 2017?**\n",
        "- Lượng sale tăng giảm liên tục và có xu hướng tăng mạnh vào các giai đoạn tháng 7-tháng 8 và tháng 12-tháng 1\n",
        "- Profit tăng rất chậm và có xu hướng giảm dần"
      ]
    },
    {
      "cell_type": "code",
      "metadata": {
        "colab": {
          "base_uri": "https://localhost:8080/"
        },
        "id": "KUpQjSGbqtDQ",
        "outputId": "a16d7681-e6b2-49aa-b9f0-85845a7c3f6c"
      },
      "source": [
        "## Find state has the highest return rate\n",
        "df_state = group_and_mean(df, 'State')\n",
        "print(df_state)\n",
        "highest_rate_1 = df_state['Profit Rate'].max()\n",
        "state_highest_rate = df_state['Profit Rate'].idxmax()\n",
        "print(\"State has the highest return rates is: \" + state_highest_rate + \" with \" + str(highest_rate_1))"
      ],
      "execution_count": 15,
      "outputs": [
        {
          "output_type": "stream",
          "text": [
            "                          Sales    Profit  Profit Rate\n",
            "State                                                 \n",
            "Alabama                319.8466   94.8660       0.3315\n",
            "Arizona                157.5089  -15.3032      -0.0664\n",
            "Arkansas               194.6355   66.8115       0.3795\n",
            "California             228.7295   38.1716       0.2783\n",
            "Colorado               176.4182  -35.8674      -0.1238\n",
            "Connecticut            163.2239   42.8231       0.3364\n",
            "Delaware               285.9486  103.9310       0.3501\n",
            "District of Columbia   286.5020  105.9589       0.4220\n",
            "Florida                233.6128   -8.8755      -0.0180\n",
            "Georgia                266.8252   88.3155       0.3452\n",
            "Idaho                  208.6898   39.3678       0.2775\n",
            "Illinois               162.9392  -25.6258      -0.3917\n",
            "Indiana                359.4319  123.3754       0.3479\n",
            "Iowa                   152.6587   39.4604       0.3993\n",
            "Kansas                 121.4296   34.8518       0.3338\n",
            "Kentucky               263.2500   80.5734       0.3331\n",
            "Louisiana              219.4531   52.2882       0.3352\n",
            "Maine                  158.8162   56.8108       0.3638\n",
            "Maryland               225.7669   66.9636       0.3438\n",
            "Massachusetts          212.1069   50.2630       0.3328\n",
            "Michigan               299.0965   95.9341       0.3334\n",
            "Minnesota              335.5410  121.6088       0.3580\n",
            "Mississippi            203.2328   59.8675       0.3457\n",
            "Missouri               336.4417   97.5183       0.3461\n",
            "Montana                372.6235  122.2219       0.3128\n",
            "Nebraska               196.4455   53.6077       0.3284\n",
            "Nevada                 428.9513   85.0453       0.3043\n",
            "New Hampshire          270.0935   63.2038       0.3426\n",
            "New Jersey             275.1101   75.1763       0.3353\n",
            "New Mexico             129.2844   31.2734       0.2972\n",
            "New York               275.5995   65.6370       0.2984\n",
            "North Carolina         223.3059  -30.0840       0.0078\n",
            "North Dakota           131.4157   32.8785       0.3514\n",
            "Ohio                   166.8617  -36.1863      -0.0738\n",
            "Oklahoma               298.2332   73.5448       0.3311\n",
            "Oregon                 140.5738   -9.6006      -0.0501\n",
            "Pennsylvania           198.4871  -26.5076      -0.0860\n",
            "Rhode Island           404.0706  130.1005       0.3123\n",
            "South Carolina         201.9455   42.1204       0.3176\n",
            "South Dakota           109.6300   32.9024       0.3775\n",
            "Tennessee              167.5512  -29.1896      -0.0168\n",
            "Texas                  172.7797  -26.1212      -0.3420\n",
            "Utah                   211.6992   48.0478       0.3093\n",
            "Vermont                811.7609  204.0889       0.3445\n",
            "Virginia               315.3425   83.0266       0.3320\n",
            "Washington             273.9946   66.0131       0.2764\n",
            "West Virginia          302.4560   46.4804       0.3389\n",
            "Wisconsin              291.9510   76.3800       0.3179\n",
            "Wyoming               1603.1360  100.1960       0.0625\n",
            "State has the highest return rates is: District of Columbia with 0.422\n"
          ],
          "name": "stdout"
        }
      ]
    },
    {
      "cell_type": "markdown",
      "metadata": {
        "id": "PPHY3_Dmd4sC"
      },
      "source": [
        "**4. Which states have the highest return rates?**\n",
        "- Vùng có profit rate cao nhất là District of Columbia với 0.422"
      ]
    },
    {
      "cell_type": "code",
      "metadata": {
        "colab": {
          "base_uri": "https://localhost:8080/"
        },
        "id": "pHnl5lPurUVX",
        "outputId": "42b034a2-1070-4857-9802-a9e9572cfa84"
      },
      "source": [
        "## Find category has the highest return rate\n",
        "df_category = group_and_mean(df, 'Category')\n",
        "highest_rate_2 = df_category['Profit Rate'].max()\n",
        "category_highest_rate = df_category['Profit Rate'].idxmax()\n",
        "print(\"Category has the highest return rates is: \" + category_highest_rate + \" with \" + str(highest_rate_2))"
      ],
      "execution_count": 16,
      "outputs": [
        {
          "output_type": "stream",
          "text": [
            "Category has the highest return rates is: Technology with 0.1561\n"
          ],
          "name": "stdout"
        }
      ]
    },
    {
      "cell_type": "markdown",
      "metadata": {
        "id": "qIuqX7QQeH2N"
      },
      "source": [
        "**5. Which categories have the highest return rates?**\n",
        "- Danh mục có profit rate cao nhất là Technology với 0.1561"
      ]
    },
    {
      "cell_type": "code",
      "metadata": {
        "id": "hVGn8D7br42V"
      },
      "source": [
        "def count_order_by_month(df_input):\n",
        "  \"\"\"\n",
        "    Count the orders by the months of year\n",
        "  \"\"\"\n",
        "  data = {\n",
        "      'Month': df_input['Month'],\n",
        "      'Order Numbers': 1 \n",
        "  }\n",
        "  new_df = pd.DataFrame(data)\n",
        "  new_df = new_df.groupby('Month').sum()\n",
        "  return new_df"
      ],
      "execution_count": 17,
      "outputs": []
    },
    {
      "cell_type": "code",
      "metadata": {
        "colab": {
          "base_uri": "https://localhost:8080/"
        },
        "id": "JMzT41tFreR9",
        "outputId": "e1feba7c-cf0e-4fa6-a860-f7f246d9e102"
      },
      "source": [
        "## Find the month of year has the most orders\n",
        "df_month = count_order_by_month(df)\n",
        "print(df_month)\n",
        "most_orders = df_month['Order Numbers'].max()\n",
        "month_most_orders = df_month['Order Numbers'].idxmax()\n",
        "print(\"The month has the most orders is: \" + str(month_most_orders) + \" with \" + str(most_orders))"
      ],
      "execution_count": 18,
      "outputs": [
        {
          "output_type": "stream",
          "text": [
            "       Order Numbers\n",
            "Month               \n",
            "1                381\n",
            "2                300\n",
            "3                696\n",
            "4                668\n",
            "5                735\n",
            "6                717\n",
            "7                710\n",
            "8                706\n",
            "9               1383\n",
            "10               819\n",
            "11              1471\n",
            "12              1408\n",
            "The month has the most orders is: 11 with 1471\n"
          ],
          "name": "stdout"
        }
      ]
    },
    {
      "cell_type": "markdown",
      "metadata": {
        "id": "DVAuAUDieXVi"
      },
      "source": [
        "**6. Which month of the year has the most orders?**\n",
        "- Tháng 11 có nhiều đơn đặt hàng nhất trong năm với 1471 đơn"
      ]
    },
    {
      "cell_type": "code",
      "metadata": {
        "colab": {
          "base_uri": "https://localhost:8080/"
        },
        "id": "NBa9iMgBx5F9",
        "outputId": "b0550bc2-ac52-4050-9954-0948828d4644"
      },
      "source": [
        "## Find 10 best-selling products\n",
        "df_products = group_and_mean(df, 'Product')\n",
        "sorted_df = df_products.sort_values(by=['Sales'], ascending=False)\n",
        "print(sorted_df[:10])"
      ],
      "execution_count": 21,
      "outputs": [
        {
          "output_type": "stream",
          "text": [
            "                                                         Sales  ...  Profit Rate\n",
            "Product                                                         ...             \n",
            "Cisco TelePresence System EX90 Videoconferencin...  22638.4800  ...      -0.0800\n",
            "Canon imageCLASS 2200 Advanced Copier               12319.9648  ...       0.3847\n",
            "Cubify CubeX 3D Printer Triple Head Print            7999.9800  ...      -0.4800\n",
            "3D Systems Cube Printer, 2nd Generation, Magenta     7149.9450  ...       0.2600\n",
            "HP Designjet T520 Inkjet Large Format Printer -...   6124.9650  ...       0.0933\n",
            "High Speed Automatic Electric Letter Opener          5676.7707  ...      -0.0400\n",
            "Ibico EPK-21 Electric Binding System                 5291.9720  ...      -0.2325\n",
            "Lexmark MX611dhe Monochrome Laser Printer            4207.4752  ...      -0.3611\n",
            "Canon imageCLASS MF7460 Monochrome Digital Lase...   3991.9800  ...       0.5000\n",
            "Okidata MB760 Printer                                3917.2000  ...       0.1125\n",
            "\n",
            "[10 rows x 3 columns]\n"
          ],
          "name": "stdout"
        }
      ]
    },
    {
      "cell_type": "markdown",
      "metadata": {
        "id": "68Kb32Viejdg"
      },
      "source": [
        "**7. Top 10 best-selling products?**\n",
        "\n",
        "\n",
        "1. Cisco TelePresence System EX90 Videoconferencing Unit\n",
        "2. Canon imageCLASS 2200 Advanced Copier\n",
        "3. Cubify CubeX 3D Printer Triple Head Print\n",
        "4. 3D Systems Cube Printer, 2nd Generation, Magenta\n",
        "5. HP Designjet T520 Inkjet Large Format Printer - 24\" Color\n",
        "6. High Speed Automatic Electric Letter Opener\n",
        "7. Ibico EPK-21 Electric Binding System\n",
        "8. Lexmark MX611dhe Monochrome Laser Printer\n",
        "9. Canon imageCLASS MF7460 Monochrome Digital Laser Multifunction Copier\n",
        "10. Okidata MB760 Printer\n",
        "\n"
      ]
    },
    {
      "cell_type": "code",
      "metadata": {
        "colab": {
          "base_uri": "https://localhost:8080/"
        },
        "id": "IsyHSEUZ1_NX",
        "outputId": "ac2d8097-bcf7-4bf8-b299-9fff1e180d78"
      },
      "source": [
        "## \n",
        "data_sub_category = {\n",
        "    'Category': df['Category'],\n",
        "    'Sub-Category': df['Sub-Category']\n",
        "}\n",
        "df_sub_category = pd.DataFrame(data_sub_category)\n",
        "df_sub_category = df_sub_category.groupby('Category')['Sub-Category'].apply(list)\n",
        "for row in range(len(df_sub_category)):\n",
        "  df_sub_category[row] = list(dict.fromkeys(df_sub_category[row]))\n",
        "print(df_sub_category)\n",
        "print(\"Sub-category are usually sold together: \\n\")\n",
        "for row in df_sub_category:\n",
        "  string = \"-\"\n",
        "  for index in range(len(row)):\n",
        "    string = string + row[index] + \", \" \n",
        "  print(string)"
      ],
      "execution_count": 20,
      "outputs": [
        {
          "output_type": "stream",
          "text": [
            "Category\n",
            "Furniture                   [Bookcases, Chairs, Tables, Furnishings]\n",
            "Office Supplies    [Labels, Storage, Art, Binders, Appliances, Pa...\n",
            "Technology                  [Phones, Accessories, Machines, Copiers]\n",
            "Name: Sub-Category, dtype: object\n",
            "Sub-category are usually sold together: \n",
            "\n",
            "-Bookcases, Chairs, Tables, Furnishings, \n",
            "-Labels, Storage, Art, Binders, Appliances, Paper, Envelopes, Fasteners, Supplies, \n",
            "-Phones, Accessories, Machines, Copiers, \n"
          ],
          "name": "stdout"
        }
      ]
    },
    {
      "cell_type": "markdown",
      "metadata": {
        "id": "I0a0-1Nnfm3D"
      },
      "source": [
        "**8. Which sub-category are usually sold together?**\n",
        "- Các danh mục con luôn được bán cùng nhau là:\n",
        "\n",
        "\n",
        "1. Bookcases, Chairs, Tables, Furnishings\n",
        "2. Labels, Storage, Art, Binders, Appliances, Paper, Envelopes, Fasteners, Supplies\n",
        "3. Phones, Accessories, Machines, Copiers\n",
        "\n"
      ]
    },
    {
      "cell_type": "markdown",
      "metadata": {
        "id": "yOdIVLwBgFiS"
      },
      "source": [
        "**Advanced:**\n",
        "\n",
        "\n",
        "1. Vì sao sale tăng mạnh, nhưng profit lại tăng rất chậm?\n",
        "\n",
        "\n",
        "> Sale tăng mạnh nhưng profit tăng rất chậm do có nhiều discount với tỉ lệ rất cao (lên đến 0.8)\n",
        "\n",
        "\n",
        "2. Vì sao profit tăng nhưng profit rate lại giảm?\n",
        "\n",
        "\n",
        "> Profit rate = profit / sale\n",
        "- Mặc dù profit rate tăng nhưng có những thời điểm lượng sale lại tăng lớn hơn nhiều so với profit nên vì thế mà tại các thời điểm đó mặc dù profit tăng nhưng sale thì lại giảm\n",
        "\n",
        "3. Để nâng cao doanh thu bán hàng cần:\n",
        "* Căn chỉnh tỉ lệ discount hợp lí\n",
        "* Có chiến dịch marketing hợp lí\n",
        "* Cần tăng số lượng hàng bán chạy vào các thời điểm bán được nhiều nhất trong năm\n",
        "\n",
        "\n",
        "\n"
      ]
    }
  ]
}