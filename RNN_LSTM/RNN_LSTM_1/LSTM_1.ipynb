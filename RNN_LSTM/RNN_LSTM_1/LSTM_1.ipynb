{
  "nbformat": 4,
  "nbformat_minor": 2,
  "metadata": {
    "colab": {
      "name": "LSTM_1.ipynb",
      "provenance": [],
      "collapsed_sections": []
    },
    "kernelspec": {
      "display_name": "Python 3",
      "language": "python",
      "name": "python3"
    },
    "language_info": {
      "codemirror_mode": {
        "name": "ipython",
        "version": 3
      },
      "file_extension": ".py",
      "mimetype": "text/x-python",
      "name": "python",
      "nbconvert_exporter": "python",
      "pygments_lexer": "ipython3",
      "version": "3.7.9"
    }
  },
  "cells": [
    {
      "cell_type": "markdown",
      "source": [
        "**Connect with google drive**"
      ],
      "metadata": {
        "id": "NM5s0GL_v7W5"
      }
    },
    {
      "cell_type": "code",
      "execution_count": 67,
      "source": [
        "!pip install yfinance "
      ],
      "outputs": [
        {
          "output_type": "stream",
          "name": "stdout",
          "text": [
            "Requirement already satisfied: yfinance in /usr/local/lib/python3.7/dist-packages (0.1.63)\n",
            "Requirement already satisfied: requests>=2.20 in /usr/local/lib/python3.7/dist-packages (from yfinance) (2.23.0)\n",
            "Requirement already satisfied: multitasking>=0.0.7 in /usr/local/lib/python3.7/dist-packages (from yfinance) (0.0.9)\n",
            "Requirement already satisfied: pandas>=0.24 in /usr/local/lib/python3.7/dist-packages (from yfinance) (1.1.5)\n",
            "Requirement already satisfied: numpy>=1.15 in /usr/local/lib/python3.7/dist-packages (from yfinance) (1.19.5)\n",
            "Requirement already satisfied: lxml>=4.5.1 in /usr/local/lib/python3.7/dist-packages (from yfinance) (4.6.3)\n",
            "Requirement already satisfied: python-dateutil>=2.7.3 in /usr/local/lib/python3.7/dist-packages (from pandas>=0.24->yfinance) (2.8.1)\n",
            "Requirement already satisfied: pytz>=2017.2 in /usr/local/lib/python3.7/dist-packages (from pandas>=0.24->yfinance) (2018.9)\n",
            "Requirement already satisfied: six>=1.5 in /usr/local/lib/python3.7/dist-packages (from python-dateutil>=2.7.3->pandas>=0.24->yfinance) (1.15.0)\n",
            "Requirement already satisfied: certifi>=2017.4.17 in /usr/local/lib/python3.7/dist-packages (from requests>=2.20->yfinance) (2021.5.30)\n",
            "Requirement already satisfied: chardet<4,>=3.0.2 in /usr/local/lib/python3.7/dist-packages (from requests>=2.20->yfinance) (3.0.4)\n",
            "Requirement already satisfied: idna<3,>=2.5 in /usr/local/lib/python3.7/dist-packages (from requests>=2.20->yfinance) (2.10)\n",
            "Requirement already satisfied: urllib3!=1.25.0,!=1.25.1,<1.26,>=1.21.1 in /usr/local/lib/python3.7/dist-packages (from requests>=2.20->yfinance) (1.24.3)\n"
          ]
        }
      ],
      "metadata": {
        "colab": {
          "base_uri": "https://localhost:8080/"
        },
        "id": "54obSXQtzXMs",
        "outputId": "10a00348-e736-441b-bbda-9b96ef81a759"
      }
    },
    {
      "cell_type": "code",
      "execution_count": 68,
      "source": [
        "from google.colab import drive\n",
        "drive.mount('/content/drive')"
      ],
      "outputs": [
        {
          "output_type": "stream",
          "name": "stdout",
          "text": [
            "Drive already mounted at /content/drive; to attempt to forcibly remount, call drive.mount(\"/content/drive\", force_remount=True).\n"
          ]
        }
      ],
      "metadata": {
        "colab": {
          "base_uri": "https://localhost:8080/"
        },
        "id": "mAMlF5ICIjX5",
        "outputId": "c91f3455-3ea1-4283-d240-8ee53aabc89b"
      }
    },
    {
      "cell_type": "markdown",
      "source": [
        "**Step_1: Get the data of 20 companies from yahoo web and store in google drive**"
      ],
      "metadata": {
        "id": "GQZKZP8QEbvU"
      }
    },
    {
      "cell_type": "code",
      "execution_count": 69,
      "source": [
        "from pandas_datareader import data as pdr\n",
        "from datetime import date\n",
        "import yfinance as yf\n",
        "yf.pdr_override()\n",
        "import pandas as pd\n",
        "#datetime is a Python module\n",
        "import datetime\n",
        "\n",
        "# Set the start and end date\n",
        "start_date = '2017-01-01'\n",
        "\n",
        "#start_date = '2017-01-01'\n",
        "# Get data to today\n",
        "today = datetime.datetime.today()\n",
        "# Set the list including 20'str' acronym of 20 companies\n",
        "list = ['INTC','AMD', 'CSCO', 'AAPL', 'MU', 'NVDA', 'QCOM', 'AMZN', 'NFLX', 'FB', 'GOOG', 'BABA', 'EBAY', 'IBM', 'XLNX', 'TXN', 'NOK', 'TSLA', 'MSFT', 'SNPS']\n",
        "\n",
        "# Get the data\n",
        "files=[]\n",
        "\n",
        "# Create a data folder in my google drive.\n",
        "def SaveData(df, filename):\n",
        "  df.to_csv('/content/drive/MyDrive/BAP-AI/LSTM/Dataset/'+filename+'.csv')\n",
        "\n",
        "def GetData(acronym):\n",
        "  print (acronym)\n",
        "  data = pdr.get_data_yahoo(acronym, start = start_date, end = today )\n",
        "  dataname= acronym\n",
        "  files.append(dataname)\n",
        "  # SaveData(data, dataname)\n",
        "\n",
        "print(\"Today is \" + str(today))\n",
        "#Get data, and save that data as \"str\".csv\n",
        "for i in list:\n",
        "  GetData(i)\n",
        "  "
      ],
      "outputs": [
        {
          "output_type": "stream",
          "name": "stdout",
          "text": [
            "Today is 2021-07-24 17:12:06.366814\n",
            "INTC\n",
            "[*********************100%***********************]  1 of 1 completed\n",
            "AMD\n",
            "[*********************100%***********************]  1 of 1 completed\n",
            "CSCO\n",
            "[*********************100%***********************]  1 of 1 completed\n",
            "AAPL\n",
            "[*********************100%***********************]  1 of 1 completed\n",
            "MU\n",
            "[*********************100%***********************]  1 of 1 completed\n",
            "NVDA\n",
            "[*********************100%***********************]  1 of 1 completed\n",
            "QCOM\n",
            "[*********************100%***********************]  1 of 1 completed\n",
            "AMZN\n",
            "[*********************100%***********************]  1 of 1 completed\n",
            "NFLX\n",
            "[*********************100%***********************]  1 of 1 completed\n",
            "FB\n",
            "[*********************100%***********************]  1 of 1 completed\n",
            "GOOG\n",
            "[*********************100%***********************]  1 of 1 completed\n",
            "BABA\n",
            "[*********************100%***********************]  1 of 1 completed\n",
            "EBAY\n",
            "[*********************100%***********************]  1 of 1 completed\n",
            "IBM\n",
            "[*********************100%***********************]  1 of 1 completed\n",
            "XLNX\n",
            "[*********************100%***********************]  1 of 1 completed\n",
            "TXN\n",
            "[*********************100%***********************]  1 of 1 completed\n",
            "NOK\n",
            "[*********************100%***********************]  1 of 1 completed\n",
            "TSLA\n",
            "[*********************100%***********************]  1 of 1 completed\n",
            "MSFT\n",
            "[*********************100%***********************]  1 of 1 completed\n",
            "SNPS\n",
            "[*********************100%***********************]  1 of 1 completed\n"
          ]
        }
      ],
      "metadata": {
        "colab": {
          "base_uri": "https://localhost:8080/"
        },
        "id": "pE7Sw87NBvrZ",
        "outputId": "b480a227-bc1d-4111-dece-98cd5f4dbef1"
      }
    },
    {
      "cell_type": "markdown",
      "source": [
        "### Requirement: \n",
        "30 ngày liên tiếp là input đầu vào của cột Adj => Predict ra cho ngày 31 "
      ],
      "metadata": {
        "id": "guZIhj8hKKD0"
      }
    },
    {
      "cell_type": "markdown",
      "source": [
        "**Step_2: Working with LSTM model**"
      ],
      "metadata": {
        "id": "jTFi7KBJJril"
      }
    },
    {
      "cell_type": "code",
      "execution_count": 70,
      "source": [
        "import tensorflow as tf \n",
        "from tensorflow.keras.preprocessing import sequence\n",
        "import numpy as np\n"
      ],
      "outputs": [],
      "metadata": {
        "id": "5gWRmK1YKZNZ"
      }
    },
    {
      "cell_type": "code",
      "execution_count": 71,
      "source": [
        "from sklearn.preprocessing import MinMaxScaler\n",
        "data = pd.read_csv('/content/drive/MyDrive/BAP-AI/LSTM/Dataset/FB.csv')\n",
        "data = data.filter(['Adj Close']).values\n",
        "# data_train = np.array(data_train)\n",
        "train_length = len(data) // 10 * 8\n",
        "\n",
        "# Scale data to [0;1]\n",
        "scaler = MinMaxScaler(feature_range=(0,1))\n",
        "scaled_data = scaler.fit_transform(data)\n",
        "scaled_data"
      ],
      "outputs": [
        {
          "output_type": "execute_result",
          "data": {
            "text/plain": [
              "array([[0.        ],\n",
              "       [0.00766397],\n",
              "       [0.0159561 ],\n",
              "       ...,\n",
              "       [0.92172711],\n",
              "       [0.94145234],\n",
              "       [0.96059133]])"
            ]
          },
          "metadata": {
            "tags": []
          },
          "execution_count": 71
        }
      ],
      "metadata": {
        "id": "sCQygiKpVjUf",
        "colab": {
          "base_uri": "https://localhost:8080/"
        },
        "outputId": "f58fa1eb-2291-47c6-fb65-bc837ecbc0b3"
      }
    },
    {
      "cell_type": "code",
      "execution_count": 72,
      "source": [
        "# Create x_train and y_train\n",
        "x_train = []\n",
        "y_train = []\n",
        "\n",
        "for i in range(30, train_length):\n",
        "  x_train.append(scaled_data[i-30:i,0])\n",
        "  y_train.append(scaled_data[i, 0])\n",
        "\n",
        "# Convert the x_train and y_train to numpy arrays \n",
        "x_train, y_train = np.array(x_train), np.array(y_train)\n",
        "# Reshape the data\n",
        "x_train = np.reshape(x_train, (x_train.shape[0], x_train.shape[1], 1))\n",
        "x_train.shape"
      ],
      "outputs": [
        {
          "output_type": "execute_result",
          "data": {
            "text/plain": [
              "(882, 30, 1)"
            ]
          },
          "metadata": {
            "tags": []
          },
          "execution_count": 72
        }
      ],
      "metadata": {
        "colab": {
          "base_uri": "https://localhost:8080/"
        },
        "id": "RLPdTS7no3S9",
        "outputId": "f3d16fb5-5bda-4064-abed-d5ccce8d6d9c"
      }
    },
    {
      "cell_type": "code",
      "execution_count": 101,
      "source": [
        "from keras.models import Sequential\n",
        "from keras.layers import Dense, LSTM\n",
        "\n",
        "# Model\n",
        "model = Sequential()\n",
        "model.add(LSTM(256, return_sequences=True, input_shape=(x_train.shape[1], 1)))\n",
        "model.add(LSTM(128, return_sequences=True))\n",
        "model.add(LSTM(64))\n",
        "model.add(Dense(32))\n",
        "model.add(Dense(1))\n",
        "\n",
        "# Compile the model\n",
        "model.compile(optimizer='Adamax', loss='mean_squared_error')\n",
        "\n",
        "# Train model\n",
        "model.fit(x_train, y_train, batch_size=4, epochs=2)"
      ],
      "outputs": [
        {
          "output_type": "stream",
          "name": "stdout",
          "text": [
            "Epoch 1/2\n",
            "221/221 [==============================] - 29s 114ms/step - loss: 0.0099\n",
            "Epoch 2/2\n",
            "221/221 [==============================] - 25s 115ms/step - loss: 0.0013\n"
          ]
        },
        {
          "output_type": "execute_result",
          "data": {
            "text/plain": [
              "<keras.callbacks.History at 0x7fd846c097d0>"
            ]
          },
          "metadata": {
            "tags": []
          },
          "execution_count": 101
        }
      ],
      "metadata": {
        "colab": {
          "base_uri": "https://localhost:8080/"
        },
        "id": "oxxszIFMrxva",
        "outputId": "12a3fbc7-4fe2-4c0c-8caa-cf672075cf9a"
      }
    },
    {
      "cell_type": "markdown",
      "source": [
        "**Step_3: Get results**"
      ],
      "metadata": {
        "id": "eJyw3fTCMBr4"
      }
    },
    {
      "cell_type": "code",
      "execution_count": 82,
      "source": [
        "# Create data to test \n",
        "x_test = []\n",
        "y_test = []\n",
        "\n",
        "test_length = len(data) - train_length\n",
        "for i in range(train_length, len(data)):\n",
        "  x_test.append(scaled_data[i-30:i, 0])\n",
        "  y_test.append(scaled_data[i, 0])\n",
        "\n",
        "# Convert the x_test and y_test to numpy arrays \n",
        "x_test, y_test = np.array(x_test), np.array(y_test)\n",
        "# Reshape the data\n",
        "x_test = np.reshape(x_test, (x_test.shape[0], x_test.shape[1], 1))\n",
        "x_test.shape"
      ],
      "outputs": [
        {
          "output_type": "execute_result",
          "data": {
            "text/plain": [
              "(233, 30, 1)"
            ]
          },
          "metadata": {
            "tags": []
          },
          "execution_count": 82
        }
      ],
      "metadata": {
        "colab": {
          "base_uri": "https://localhost:8080/"
        },
        "id": "TVaO-XHX55pF",
        "outputId": "f9775ef6-a77f-4fb2-a857-7abe0c4ac873"
      }
    },
    {
      "cell_type": "code",
      "execution_count": 83,
      "source": [
        "# Get prediction of test data\n",
        "predictions = model.predict(x_test)\n",
        "predictions = scaler.inverse_transform(predictions)\n",
        "# print(predictions)"
      ],
      "outputs": [],
      "metadata": {
        "id": "8XeLb1_PU0gf"
      }
    },
    {
      "cell_type": "markdown",
      "source": [
        "**Step_4: Check**"
      ],
      "metadata": {
        "id": "rwAlq5MftPVL"
      }
    },
    {
      "cell_type": "code",
      "execution_count": 102,
      "source": [
        "index = train_length + 21\n",
        "x = scaled_data[index:index + 30, 0]\n",
        "x = np.reshape(x, (1, 30, 1))\n",
        "prediction = model.predict(x)\n",
        "prediction = scaler.inverse_transform(prediction)\n",
        "print(prediction[0][0])\n",
        "print(data[index + 30][0])\n",
        "\n"
      ],
      "outputs": [
        {
          "output_type": "stream",
          "name": "stdout",
          "text": [
            "267.9156\n",
            "280.82998657226557\n"
          ]
        }
      ],
      "metadata": {
        "colab": {
          "base_uri": "https://localhost:8080/"
        },
        "id": "K5hS_rFCZsWP",
        "outputId": "4811a6f4-47f3-478d-fcc1-09d7866c66d5"
      }
    }
  ]
}